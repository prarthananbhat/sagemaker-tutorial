{
 "cells": [
  {
   "cell_type": "code",
   "execution_count": 1,
   "id": "ea272290",
   "metadata": {},
   "outputs": [],
   "source": [
    "from sagemaker import get_execution_role\n",
    "import boto3\n",
    "import sagemaker"
   ]
  },
  {
   "cell_type": "code",
   "execution_count": 3,
   "id": "2a18df57",
   "metadata": {},
   "outputs": [
    {
     "data": {
      "text/plain": [
       "'433757028032.dkr.ecr.us-west-2.amazonaws.com/xgboost:latest'"
      ]
     },
     "execution_count": 3,
     "metadata": {},
     "output_type": "execute_result"
    }
   ],
   "source": [
    "role = sagemaker.get_execution_role()\n",
    "region = boto3.Session().region_name\n",
    "bucket = 'mysagemakertutorial'\n",
    "data_prefix = \"sagemaker/data\"\n",
    "model_prefix = \"sagemaker/model\"\n",
    "sess = sagemaker.Session()\n",
    "\n",
    "# this line automatically looks for the XGBoost image URI and builds an XGBoost container.\n",
    "xgboost_container = sagemaker.image_uris.retrieve(\"xgboost\", region, \"latest\")\n",
    "xgboost_container"
   ]
  },
  {
   "cell_type": "code",
   "execution_count": 4,
   "id": "38b2b8cd",
   "metadata": {},
   "outputs": [
    {
     "data": {
      "text/plain": [
       "<sagemaker.inputs.TrainingInput at 0x7f93e0044390>"
      ]
     },
     "execution_count": 4,
     "metadata": {},
     "output_type": "execute_result"
    }
   ],
   "source": [
    "s3_input_train = sagemaker.inputs.TrainingInput(s3_data='s3://{}/{}/train/train.csv'.format(bucket, data_prefix), content_type='csv')\n",
    "s3_input_train"
   ]
  },
  {
   "cell_type": "code",
   "execution_count": 6,
   "id": "590b2cde",
   "metadata": {},
   "outputs": [],
   "source": [
    "xgb = sagemaker.estimator.Estimator(xgboost_container,role, \n",
    "                                    instance_count=1, \n",
    "                                    instance_type='ml.m4.xlarge',\n",
    "                                    output_path='s3://{}/{}/'.format(bucket, model_prefix),\n",
    "                                    sagemaker_session=sess)\n",
    "xgb.set_hyperparameters(max_depth=5,\n",
    "                        eta=0.2,gamma=4,\n",
    "                        min_child_weight=6,\n",
    "                        subsample=0.8,\n",
    "                        silent=0,\n",
    "                        num_round=10)"
   ]
  },
  {
   "cell_type": "code",
   "execution_count": 7,
   "id": "de5c4825",
   "metadata": {},
   "outputs": [
    {
     "name": "stdout",
     "output_type": "stream",
     "text": [
      "2021-12-22 16:10:49 Starting - Starting the training job...\n",
      "2021-12-22 16:11:12 Starting - Launching requested ML instancesProfilerReport-1640189449: InProgress\n",
      "......\n",
      "2021-12-22 16:12:12 Starting - Preparing the instances for training.........\n",
      "2021-12-22 16:13:39 Downloading - Downloading input data...\n",
      "2021-12-22 16:14:19 Training - Training image download completed. Training in progress..\u001b[34mArguments: train\u001b[0m\n",
      "\u001b[34m[2021-12-22:16:14:20:INFO] Running standalone xgboost training.\u001b[0m\n",
      "\u001b[34m[2021-12-22:16:14:20:INFO] Path /opt/ml/input/data/validation does not exist!\u001b[0m\n",
      "\u001b[34m[2021-12-22:16:14:20:INFO] File size need to be processed in the node: 0.1mb. Available memory size in the node: 8363.38mb\u001b[0m\n",
      "\u001b[34m[2021-12-22:16:14:20:INFO] Determined delimiter of CSV input is ','\u001b[0m\n",
      "\u001b[34m[16:14:20] S3DistributionType set as FullyReplicated\u001b[0m\n",
      "\u001b[34m[16:14:20] 453x30 matrix with 13590 entries loaded from /opt/ml/input/data/train?format=csv&label_column=0&delimiter=,\u001b[0m\n",
      "\u001b[34m[16:14:20] src/tree/updater_prune.cc:74: tree pruning end, 1 roots, 4 extra nodes, 12 pruned nodes, max_depth=2\u001b[0m\n",
      "\u001b[34m[0]#011train-rmse:0.417959\u001b[0m\n",
      "\u001b[34m[16:14:20] src/tree/updater_prune.cc:74: tree pruning end, 1 roots, 4 extra nodes, 10 pruned nodes, max_depth=2\u001b[0m\n",
      "\u001b[34m[1]#011train-rmse:0.350786\u001b[0m\n",
      "\u001b[34m[16:14:20] src/tree/updater_prune.cc:74: tree pruning end, 1 roots, 2 extra nodes, 18 pruned nodes, max_depth=1\u001b[0m\n",
      "\u001b[34m[2]#011train-rmse:0.306479\u001b[0m\n",
      "\u001b[34m[16:14:20] src/tree/updater_prune.cc:74: tree pruning end, 1 roots, 2 extra nodes, 16 pruned nodes, max_depth=1\u001b[0m\n",
      "\u001b[34m[3]#011train-rmse:0.272171\u001b[0m\n",
      "\u001b[34m[16:14:20] src/tree/updater_prune.cc:74: tree pruning end, 1 roots, 2 extra nodes, 18 pruned nodes, max_depth=1\u001b[0m\n",
      "\u001b[34m[4]#011train-rmse:0.244942\u001b[0m\n",
      "\u001b[34m[16:14:20] src/tree/updater_prune.cc:74: tree pruning end, 1 roots, 2 extra nodes, 16 pruned nodes, max_depth=1\u001b[0m\n",
      "\u001b[34m[5]#011train-rmse:0.224656\u001b[0m\n",
      "\u001b[34m[16:14:20] src/tree/updater_prune.cc:74: tree pruning end, 1 roots, 2 extra nodes, 20 pruned nodes, max_depth=1\u001b[0m\n",
      "\u001b[34m[6]#011train-rmse:0.209977\u001b[0m\n",
      "\u001b[34m[16:14:20] src/tree/updater_prune.cc:74: tree pruning end, 1 roots, 2 extra nodes, 22 pruned nodes, max_depth=1\u001b[0m\n",
      "\u001b[34m[7]#011train-rmse:0.19846\u001b[0m\n",
      "\u001b[34m[16:14:20] src/tree/updater_prune.cc:74: tree pruning end, 1 roots, 0 extra nodes, 22 pruned nodes, max_depth=0\u001b[0m\n",
      "\u001b[34m[8]#011train-rmse:0.198174\u001b[0m\n",
      "\u001b[34m[16:14:20] src/tree/updater_prune.cc:74: tree pruning end, 1 roots, 0 extra nodes, 22 pruned nodes, max_depth=0\u001b[0m\n",
      "\u001b[34m[9]#011train-rmse:0.197943\u001b[0m\n",
      "\n",
      "2021-12-22 16:14:33 Uploading - Uploading generated training model\n",
      "2021-12-22 16:14:33 Completed - Training job completed\n",
      "Training seconds: 54\n",
      "Billable seconds: 54\n"
     ]
    }
   ],
   "source": [
    "%%time\n",
    "xgb.fit({'train': s3_input_train})"
   ]
  },
  {
   "cell_type": "code",
   "execution_count": null,
   "id": "acd94310",
   "metadata": {},
   "outputs": [],
   "source": []
  }
 ],
 "metadata": {
  "kernelspec": {
   "display_name": "conda_python3",
   "language": "python",
   "name": "conda_python3"
  },
  "language_info": {
   "codemirror_mode": {
    "name": "ipython",
    "version": 3
   },
   "file_extension": ".py",
   "mimetype": "text/x-python",
   "name": "python",
   "nbconvert_exporter": "python",
   "pygments_lexer": "ipython3",
   "version": "3.6.13"
  }
 },
 "nbformat": 4,
 "nbformat_minor": 5
}
