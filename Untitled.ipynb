{
 "cells": [
  {
   "cell_type": "code",
   "execution_count": 1,
   "id": "cea5307c",
   "metadata": {},
   "outputs": [],
   "source": [
    "import boto3\n",
    "import sagemaker\n",
    "import json\n",
    "from sagemaker.session import Session"
   ]
  },
  {
   "cell_type": "code",
   "execution_count": null,
   "id": "c1d33284",
   "metadata": {},
   "outputs": [],
   "source": [
    "s3 = boto3.resource('s3')"
   ]
  },
  {
   "cell_type": "code",
   "execution_count": null,
   "id": "2cb5fe50",
   "metadata": {},
   "outputs": [],
   "source": [
    "# make Prediction on the trained model\n",
    "def lambda_handler(event, context):\n",
    "\n",
    "# Bucket_name and model name are passed on from event\n",
    "\tdata = json.loads(json.dumps(event))\n",
    "\tBUCKET = data['bucket']\n",
    "\tMODEL = data['model']\n",
    "\t\n",
    "\t# Initialize onstants variables\n",
    "\tsagemaker_session = sagemaker.Session()\n",
    "\tregion = sagemaker_session.boto_session.region_name\n",
    "\tINPUT_BUCKET = 'sagemaker-sample-data-{}'.format(region)\n",
    "\tDATADIR = 'batch-transform/mnist-1000-samples'\n",
    "\tOUTPUT = 'ServerlessAIWorkshop/BatchTransform/output'\n",
    "\n",
    "\tinput_location = 's3://{}/{}'.format(INPUT_BUCKET, DATADIR)\n",
    "\toutput_location = 's3://{}/{}'.format(BUCKET, OUTPUT)\n",
    "\n",
    "\t# Initialize the transformer object\n",
    "\ttransformer =sagemaker.transformer.Transformer(\n",
    "\t\tbase_transform_job_name='Serverless-Workshop',\n",
    "\t\tmodel_name=MODEL,\n",
    "\t\tinstance_count=4,\n",
    "\t\tinstance_type='ml.c5.4xlarge',\n",
    "\t\toutput_path=output_location\n",
    "\t\t)\n",
    "\t\n",
    "\t# To start a transform job:\n",
    "\ttransformer.transform(input_location, content_type='text/csv', split_type='Line')\n",
    "\n",
    "\t# Then wait until transform job is completed\n",
    "\ttransformer.wait()\n",
    "\n",
    "\ts3 = boto3.resource('s3')\n",
    "\tpredictions = []\n",
    "\tresults = []\n",
    "\tfor i in range(10):\n",
    "\t\tfile_key = '{}/data-{}.csv.out'.format(OUTPUT, i)\n",
    "\n",
    "\t\toutput_obj = s3.Object(BUCKET, file_key)\n",
    "\t\toutput = output_obj.get()[\"Body\"].read().decode('utf-8')\n",
    "\n",
    "\t\tpredictions.extend(json.loads(output)['outputs']['classes']['int64Val'])\n",
    "\n",
    "\toriginals='7, 2, 1, 0, 4, 1, 4, 9, 5, 9'\n",
    "\tpredictions=', '.join(predictions)\n",
    "\n",
    "\treturn {\n",
    "        \"statusCode\": 200,\n",
    "        \"body\": json.dumps({'originals': originals, 'predictions': predictions})\n",
    "    }\n",
    "© 2021 GitHub, Inc.\n",
    "Terms\n",
    "Privacy\n",
    "Security\n",
    "Status\n",
    "Docs\n",
    "Contact GitHub\n",
    "Pricing\n",
    "API\n",
    "Training\n",
    "Blog\n",
    "About\n",
    "Loading complete"
   ]
  }
 ],
 "metadata": {
  "kernelspec": {
   "display_name": "conda_python3",
   "language": "python",
   "name": "conda_python3"
  },
  "language_info": {
   "codemirror_mode": {
    "name": "ipython",
    "version": 3
   },
   "file_extension": ".py",
   "mimetype": "text/x-python",
   "name": "python",
   "nbconvert_exporter": "python",
   "pygments_lexer": "ipython3",
   "version": "3.6.13"
  }
 },
 "nbformat": 4,
 "nbformat_minor": 5
}
