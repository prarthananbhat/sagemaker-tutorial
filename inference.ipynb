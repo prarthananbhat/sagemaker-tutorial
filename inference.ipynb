{
 "cells": [
  {
   "cell_type": "code",
   "execution_count": 16,
   "id": "fbf26901",
   "metadata": {},
   "outputs": [],
   "source": [
    "import sagemaker\n",
    "from sagemaker import get_execution_role\n",
    "import boto3\n",
    "import json\n",
    "import pandas as pd\n",
    "from sagemaker.serializers import CSVSerializer\n",
    "import numpy as np"
   ]
  },
  {
   "cell_type": "code",
   "execution_count": 17,
   "id": "266da5c3",
   "metadata": {},
   "outputs": [],
   "source": [
    "sess = sagemaker.Session()\n",
    "region = boto3.Session().region_name\n",
    "bucket = \"mysagemakertutorial\"\n",
    "data_prefix = \"sagemaker/data\"  \n",
    "model_prefix = \"sagemaker/model\"\n",
    "role = get_execution_role()"
   ]
  },
  {
   "cell_type": "code",
   "execution_count": 18,
   "id": "69b978dc",
   "metadata": {},
   "outputs": [
    {
     "name": "stderr",
     "output_type": "stream",
     "text": [
      "The method get_image_uri has been renamed in sagemaker>=2.\n",
      "See: https://sagemaker.readthedocs.io/en/stable/v2.html for details.\n"
     ]
    },
    {
     "data": {
      "text/plain": [
       "'433757028032.dkr.ecr.us-west-2.amazonaws.com/xgboost:latest'"
      ]
     },
     "execution_count": 18,
     "metadata": {},
     "output_type": "execute_result"
    }
   ],
   "source": [
    "from sagemaker.amazon.amazon_estimator import get_image_uri\n",
    "\n",
    "#### Get the built-in xgboost container image in Sagemaker to host our model\n",
    "container = get_image_uri(boto3.Session().region_name, \"xgboost\", \"0.90-1\")\n",
    "# this line automatically looks for the XGBoost image URI and builds an XGBoost container.\n",
    "xgboost_container = sagemaker.image_uris.retrieve(\"xgboost\", region, \"latest\")\n",
    "xgboost_container"
   ]
  },
  {
   "cell_type": "code",
   "execution_count": 19,
   "id": "0e0d2689",
   "metadata": {},
   "outputs": [],
   "source": [
    "model_name = 'xgboost-2021-12-22-16-10-49-300'\n",
    "model_url = 'https://mysagemakertutorial.s3.us-west-2.amazonaws.com/sagemaker/model/xgboost-2021-12-22-16-10-49-300/output/model.tar.gz'"
   ]
  },
  {
   "cell_type": "code",
   "execution_count": 20,
   "id": "26ae61bb",
   "metadata": {},
   "outputs": [
    {
     "name": "stdout",
     "output_type": "stream",
     "text": [
      "-------!CPU times: user 128 ms, sys: 1.71 ms, total: 130 ms\n",
      "Wall time: 3min 31s\n"
     ]
    }
   ],
   "source": [
    "%%time\n",
    "model = sagemaker.Model(\n",
    "    image_uri=xgboost_container, model_data=model_url, role=role, sagemaker_session=sess\n",
    ")\n",
    "model.deploy(initial_instance_count=1, instance_type=\"ml.m4.xlarge\")\n",
    "\n",
    "predictor = sagemaker.Predictor(\n",
    "    endpoint_name=model.endpoint_name,\n",
    "    sagemaker_session=sess,\n",
    "    serializer=CSVSerializer()\n",
    ")"
   ]
  },
  {
   "cell_type": "code",
   "execution_count": 21,
   "id": "973c239e",
   "metadata": {},
   "outputs": [
    {
     "name": "stdout",
     "output_type": "stream",
     "text": [
      "s3://mysagemakertutorial/sagemaker/data/test/test.csv\n"
     ]
    }
   ],
   "source": [
    "data_key = 'test/test.csv'\n",
    "data_location = 's3://{}/{}/{}'.format(bucket, data_prefix,data_key)\n",
    "print(data_location)\n",
    "test_data = pd.read_csv(data_location, header = None)"
   ]
  },
  {
   "cell_type": "code",
   "execution_count": 22,
   "id": "e5a3c5d5",
   "metadata": {},
   "outputs": [
    {
     "data": {
      "text/html": [
       "<div>\n",
       "<style scoped>\n",
       "    .dataframe tbody tr th:only-of-type {\n",
       "        vertical-align: middle;\n",
       "    }\n",
       "\n",
       "    .dataframe tbody tr th {\n",
       "        vertical-align: top;\n",
       "    }\n",
       "\n",
       "    .dataframe thead th {\n",
       "        text-align: right;\n",
       "    }\n",
       "</style>\n",
       "<table border=\"1\" class=\"dataframe\">\n",
       "  <thead>\n",
       "    <tr style=\"text-align: right;\">\n",
       "      <th></th>\n",
       "      <th>0</th>\n",
       "      <th>1</th>\n",
       "      <th>2</th>\n",
       "      <th>3</th>\n",
       "      <th>4</th>\n",
       "      <th>5</th>\n",
       "      <th>6</th>\n",
       "      <th>7</th>\n",
       "      <th>8</th>\n",
       "      <th>9</th>\n",
       "      <th>...</th>\n",
       "      <th>20</th>\n",
       "      <th>21</th>\n",
       "      <th>22</th>\n",
       "      <th>23</th>\n",
       "      <th>24</th>\n",
       "      <th>25</th>\n",
       "      <th>26</th>\n",
       "      <th>27</th>\n",
       "      <th>28</th>\n",
       "      <th>29</th>\n",
       "    </tr>\n",
       "  </thead>\n",
       "  <tbody>\n",
       "    <tr>\n",
       "      <th>0</th>\n",
       "      <td>19.69</td>\n",
       "      <td>21.25</td>\n",
       "      <td>130.00</td>\n",
       "      <td>1203.0</td>\n",
       "      <td>0.10960</td>\n",
       "      <td>0.15990</td>\n",
       "      <td>0.19740</td>\n",
       "      <td>0.12790</td>\n",
       "      <td>0.2069</td>\n",
       "      <td>0.05999</td>\n",
       "      <td>...</td>\n",
       "      <td>23.57</td>\n",
       "      <td>25.53</td>\n",
       "      <td>152.50</td>\n",
       "      <td>1709.0</td>\n",
       "      <td>0.1444</td>\n",
       "      <td>0.42450</td>\n",
       "      <td>0.45040</td>\n",
       "      <td>0.24300</td>\n",
       "      <td>0.3613</td>\n",
       "      <td>0.08758</td>\n",
       "    </tr>\n",
       "    <tr>\n",
       "      <th>1</th>\n",
       "      <td>15.85</td>\n",
       "      <td>23.95</td>\n",
       "      <td>103.70</td>\n",
       "      <td>782.7</td>\n",
       "      <td>0.08401</td>\n",
       "      <td>0.10020</td>\n",
       "      <td>0.09938</td>\n",
       "      <td>0.05364</td>\n",
       "      <td>0.1847</td>\n",
       "      <td>0.05338</td>\n",
       "      <td>...</td>\n",
       "      <td>16.84</td>\n",
       "      <td>27.66</td>\n",
       "      <td>112.00</td>\n",
       "      <td>876.5</td>\n",
       "      <td>0.1131</td>\n",
       "      <td>0.19240</td>\n",
       "      <td>0.23220</td>\n",
       "      <td>0.11190</td>\n",
       "      <td>0.2809</td>\n",
       "      <td>0.06287</td>\n",
       "    </tr>\n",
       "    <tr>\n",
       "      <th>2</th>\n",
       "      <td>13.54</td>\n",
       "      <td>14.36</td>\n",
       "      <td>87.46</td>\n",
       "      <td>566.3</td>\n",
       "      <td>0.09779</td>\n",
       "      <td>0.08129</td>\n",
       "      <td>0.06664</td>\n",
       "      <td>0.04781</td>\n",
       "      <td>0.1885</td>\n",
       "      <td>0.05766</td>\n",
       "      <td>...</td>\n",
       "      <td>15.11</td>\n",
       "      <td>19.26</td>\n",
       "      <td>99.70</td>\n",
       "      <td>711.2</td>\n",
       "      <td>0.1440</td>\n",
       "      <td>0.17730</td>\n",
       "      <td>0.23900</td>\n",
       "      <td>0.12880</td>\n",
       "      <td>0.2977</td>\n",
       "      <td>0.07259</td>\n",
       "    </tr>\n",
       "    <tr>\n",
       "      <th>3</th>\n",
       "      <td>17.14</td>\n",
       "      <td>16.40</td>\n",
       "      <td>116.00</td>\n",
       "      <td>912.7</td>\n",
       "      <td>0.11860</td>\n",
       "      <td>0.22760</td>\n",
       "      <td>0.22290</td>\n",
       "      <td>0.14010</td>\n",
       "      <td>0.3040</td>\n",
       "      <td>0.07413</td>\n",
       "      <td>...</td>\n",
       "      <td>22.25</td>\n",
       "      <td>21.40</td>\n",
       "      <td>152.40</td>\n",
       "      <td>1461.0</td>\n",
       "      <td>0.1545</td>\n",
       "      <td>0.39490</td>\n",
       "      <td>0.38530</td>\n",
       "      <td>0.25500</td>\n",
       "      <td>0.4066</td>\n",
       "      <td>0.10590</td>\n",
       "    </tr>\n",
       "    <tr>\n",
       "      <th>4</th>\n",
       "      <td>11.94</td>\n",
       "      <td>18.24</td>\n",
       "      <td>75.71</td>\n",
       "      <td>437.6</td>\n",
       "      <td>0.08261</td>\n",
       "      <td>0.04751</td>\n",
       "      <td>0.01972</td>\n",
       "      <td>0.01349</td>\n",
       "      <td>0.1868</td>\n",
       "      <td>0.06110</td>\n",
       "      <td>...</td>\n",
       "      <td>13.10</td>\n",
       "      <td>21.33</td>\n",
       "      <td>83.67</td>\n",
       "      <td>527.2</td>\n",
       "      <td>0.1144</td>\n",
       "      <td>0.08906</td>\n",
       "      <td>0.09203</td>\n",
       "      <td>0.06296</td>\n",
       "      <td>0.2785</td>\n",
       "      <td>0.07408</td>\n",
       "    </tr>\n",
       "  </tbody>\n",
       "</table>\n",
       "<p>5 rows × 30 columns</p>\n",
       "</div>"
      ],
      "text/plain": [
       "      0      1       2       3        4        5        6        7       8   \\\n",
       "0  19.69  21.25  130.00  1203.0  0.10960  0.15990  0.19740  0.12790  0.2069   \n",
       "1  15.85  23.95  103.70   782.7  0.08401  0.10020  0.09938  0.05364  0.1847   \n",
       "2  13.54  14.36   87.46   566.3  0.09779  0.08129  0.06664  0.04781  0.1885   \n",
       "3  17.14  16.40  116.00   912.7  0.11860  0.22760  0.22290  0.14010  0.3040   \n",
       "4  11.94  18.24   75.71   437.6  0.08261  0.04751  0.01972  0.01349  0.1868   \n",
       "\n",
       "        9   ...     20     21      22      23      24       25       26  \\\n",
       "0  0.05999  ...  23.57  25.53  152.50  1709.0  0.1444  0.42450  0.45040   \n",
       "1  0.05338  ...  16.84  27.66  112.00   876.5  0.1131  0.19240  0.23220   \n",
       "2  0.05766  ...  15.11  19.26   99.70   711.2  0.1440  0.17730  0.23900   \n",
       "3  0.07413  ...  22.25  21.40  152.40  1461.0  0.1545  0.39490  0.38530   \n",
       "4  0.06110  ...  13.10  21.33   83.67   527.2  0.1144  0.08906  0.09203   \n",
       "\n",
       "        27      28       29  \n",
       "0  0.24300  0.3613  0.08758  \n",
       "1  0.11190  0.2809  0.06287  \n",
       "2  0.12880  0.2977  0.07259  \n",
       "3  0.25500  0.4066  0.10590  \n",
       "4  0.06296  0.2785  0.07408  \n",
       "\n",
       "[5 rows x 30 columns]"
      ]
     },
     "execution_count": 22,
     "metadata": {},
     "output_type": "execute_result"
    }
   ],
   "source": [
    "test_data.head()"
   ]
  },
  {
   "cell_type": "code",
   "execution_count": 23,
   "id": "59106930",
   "metadata": {},
   "outputs": [],
   "source": [
    "test_array = np.array(test_data)"
   ]
  },
  {
   "cell_type": "code",
   "execution_count": 24,
   "id": "f027b83c",
   "metadata": {},
   "outputs": [
    {
     "name": "stdout",
     "output_type": "stream",
     "text": [
      "b'0.8857102990150452,0.4335191249847412,0.14776110649108887,0.8857102990150452,0.09307307004928589,0.09307307004928589,0.09307307004928589,0.3406851291656494,0.6615563631057739,0.09307307004928589,0.09307307004928589,0.09307307004928589,0.09307307004928589,0.2544648051261902,0.8857102990150452,0.7025442123413086,0.09307307004928589,0.09307307004928589,0.09307307004928589,0.09307307004928589,0.09307307004928589,0.09307307004928589,0.8229480981826782,0.7543903589248657,0.09307307004928589,0.6221315860748291,0.09307307004928589,0.8857102990150452,0.8857102990150452,0.4335191249847412,0.8857102990150452,0.09307307004928589,0.09307307004928589,0.09307307004928589,0.8857102990150452,0.09307307004928589,0.8857102990150452,0.09307307004928589,0.09307307004928589,0.8857102990150452,0.8857102990150452,0.09307307004928589,0.09307307004928589,0.09307307004928589,0.09307307004928589,0.09307307004928589,0.09307307004928589,0.09307307004928589,0.8857102990150452,0.3406851291656494,0.44106248021125793,0.09307307004928589,0.09307307004928589,0.09307307004928589,0.3406851291656494,0.8857102990150452,0.14776110649108887,0.09307307004928589,0.09307307004928589'\n",
      "CPU times: user 14.8 ms, sys: 240 µs, total: 15 ms\n",
      "Wall time: 149 ms\n"
     ]
    }
   ],
   "source": [
    "%%time\n",
    "predictions = predictor.predict(test_array)\n",
    "print(predictions)"
   ]
  },
  {
   "cell_type": "code",
   "execution_count": null,
   "id": "f15401f2",
   "metadata": {},
   "outputs": [],
   "source": []
  }
 ],
 "metadata": {
  "kernelspec": {
   "display_name": "conda_python3",
   "language": "python",
   "name": "conda_python3"
  },
  "language_info": {
   "codemirror_mode": {
    "name": "ipython",
    "version": 3
   },
   "file_extension": ".py",
   "mimetype": "text/x-python",
   "name": "python",
   "nbconvert_exporter": "python",
   "pygments_lexer": "ipython3",
   "version": "3.6.13"
  }
 },
 "nbformat": 4,
 "nbformat_minor": 5
}
